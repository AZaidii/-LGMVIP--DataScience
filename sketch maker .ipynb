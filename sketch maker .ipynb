{
 "cells": [
  {
   "cell_type": "markdown",
   "id": "f519660d",
   "metadata": {},
   "source": [
    "LetsGrowMore #Nov2022\n",
    "\n",
    "Author - Zaidi Mohammad Abbas Afzal Husain \n",
    "\n",
    "Task- 1.4 : Image to Pencil Sketch with Python\n",
    "\n",
    "Importing Required Libraries\n",
    "\n"
   ]
  },
  {
   "cell_type": "code",
   "execution_count": 2,
   "id": "8f0d10a8",
   "metadata": {},
   "outputs": [
    {
     "name": "stdout",
     "output_type": "stream",
     "text": [
      "Requirement already satisfied: numpy in c:\\users\\zaidi\\anaconda3\\lib\\site-packages (1.20.1)\n",
      "Note: you may need to restart the kernel to use updated packages.\n"
     ]
    }
   ],
   "source": [
    "pip install numpy "
   ]
  },
  {
   "cell_type": "markdown",
   "id": "61f6d444",
   "metadata": {},
   "source": [
    " #  python library which is use to image proccessing .it can use to develpoe real time computer vision"
   ]
  },
  {
   "cell_type": "code",
   "execution_count": 2,
   "id": "efce4e5c",
   "metadata": {},
   "outputs": [
    {
     "name": "stdout",
     "output_type": "stream",
     "text": [
      "Collecting opencv-pythonNote: you may need to restart the kernel to use updated packages.\n",
      "  Downloading opencv_python-4.6.0.66-cp36-abi3-win_amd64.whl (35.6 MB)\n",
      "Requirement already satisfied: numpy>=1.17.3 in c:\\users\\zaidi\\anaconda3\\lib\\site-packages (from opencv-python) (1.20.1)\n",
      "Installing collected packages: opencv-python\n",
      "Successfully installed opencv-python-4.6.0.66\n",
      "\n"
     ]
    }
   ],
   "source": [
    "pip install opencv-python  "
   ]
  },
  {
   "cell_type": "markdown",
   "id": "ce36e82b",
   "metadata": {},
   "source": [
    "# Main Code"
   ]
  },
  {
   "cell_type": "code",
   "execution_count": 4,
   "id": "aa86d0f6",
   "metadata": {},
   "outputs": [
    {
     "data": {
      "text/plain": [
       "True"
      ]
     },
     "execution_count": 4,
     "metadata": {},
     "output_type": "execute_result"
    }
   ],
   "source": [
    "import cv2                               # import important library \n",
    "image =cv2.imread(\"imm_6076_python-guido-van-rossum-big-coder-geeks-academy.png\")      # in this line of code we take a input \n",
    "grey_filter= cv2.cvtColor(image , cv2.COLOR_BGR2GRAY)  # in this line of code we convert color image to grey color\n",
    "invert = cv2.bitwise_not (grey_filter)               # in this line of code we convert grey image in to inverted image \n",
    "blur = cv2.GaussianBlur(invert, (29,29),0)           # in this line of Code we add blurness in image it takes 2 argument \n",
    "inverted_blur = cv2.bitwise_not(blur)                # in this line of code we invert the blur image \n",
    "sketch_filter = cv2.divide (grey_filter,inverted_blur , scale=256.0) # in this line of code we finally change image to sketch \n",
    "cv2.imwrite(\"output.png\",sketch_filter )        # in this line of code we finally get out put of the image "
   ]
  },
  {
   "cell_type": "code",
   "execution_count": null,
   "id": "3d267af2",
   "metadata": {},
   "outputs": [],
   "source": []
  },
  {
   "cell_type": "code",
   "execution_count": null,
   "id": "7b97c192",
   "metadata": {},
   "outputs": [],
   "source": []
  }
 ],
 "metadata": {
  "kernelspec": {
   "display_name": "Python 3",
   "language": "python",
   "name": "python3"
  },
  "language_info": {
   "codemirror_mode": {
    "name": "ipython",
    "version": 3
   },
   "file_extension": ".py",
   "mimetype": "text/x-python",
   "name": "python",
   "nbconvert_exporter": "python",
   "pygments_lexer": "ipython3",
   "version": "3.8.8"
  }
 },
 "nbformat": 4,
 "nbformat_minor": 5
}
